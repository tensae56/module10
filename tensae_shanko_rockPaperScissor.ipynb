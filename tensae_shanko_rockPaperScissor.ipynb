{
 "cells": [
  {
   "cell_type": "code",
   "execution_count": null,
   "id": "faf105b0",
   "metadata": {},
   "outputs": [],
   "source": [
    "# input from user \n",
    "Rock,paper,Scissor \n",
    "# random from computer \n",
    "Rock,paper,scissor"
   ]
  },
  {
   "cell_type": "code",
   "execution_count": 95,
   "id": "cc288692",
   "metadata": {},
   "outputs": [],
   "source": [
    "import random as ran \n",
    "\n",
    "def rockPaperScissor(player,computer):\n",
    "        if computer == 'rock': \n",
    "            if player == 'rock':\n",
    "                output = \"it's a tie, try again\"\n",
    "            elif player == \"paper\": \n",
    "                output = \"You Win!\"\n",
    "            elif player == 'scissor':\n",
    "                output = \"You Loose\"\n",
    "            else:\n",
    "                output = \"Please enter a valid answer\"\n",
    "        if computer == \"paper\": \n",
    "            if player == 'rock':\n",
    "                output = \"You Win!\"\n",
    "            elif player == \"paper\": \n",
    "                output = \"it's a tie, try again!\"\n",
    "            elif player == \"scissor\": \n",
    "                output = \"You Lose\"\n",
    "            else: \n",
    "                output = \"please enter a valid answer\"\n",
    "        if computer == \"scissor\": \n",
    "            if player == 'rock':\n",
    "                output = \"You Win\"\n",
    "            elif player == \"paper\": \n",
    "                output = \"You Loose!\"\n",
    "            elif player == \"scissor\": \n",
    "                output = \"It's a tie, try again!\"\n",
    "            else : \n",
    "                output = \"please enter a valid answer\" \n",
    "        return output\n",
    "    "
   ]
  },
  {
   "cell_type": "code",
   "execution_count": 106,
   "id": "661bd498",
   "metadata": {},
   "outputs": [
    {
     "name": "stdout",
     "output_type": "stream",
     "text": [
      "Enter Rock, Paper or Scissor........: vanilla\n"
     ]
    },
    {
     "data": {
      "text/plain": [
       "'please enter a valid answer'"
      ]
     },
     "execution_count": 106,
     "metadata": {},
     "output_type": "execute_result"
    }
   ],
   "source": [
    "options = [\"rock\", \"paper\", \"scissor\"]\n",
    "player = input(\"Enter Rock, Paper or Scissor........: \").lower()\n",
    "computer = ran.choice(options)\n",
    "rockPaperScissor(player,computer)\n",
    "#repeatGame(answer)\n",
    "\n",
    "\n",
    "#answer = input(\"do yo wish to continue, 'yes' or 'no'......\")\n",
    "#answer.lower()\n",
    "#if answer == \"yes\": \n",
    " #   rockPaperScissor(player,computer)\n",
    "#elif answer == \"no\": \n",
    "   # print(\"Thanks for playing\")\n",
    "#else: \n",
    "  #  print(\"please type yes or no\")\n"
   ]
  },
  {
   "cell_type": "code",
   "execution_count": null,
   "id": "018c7bdf",
   "metadata": {},
   "outputs": [],
   "source": []
  }
 ],
 "metadata": {
  "kernelspec": {
   "display_name": "Python 3 (ipykernel)",
   "language": "python",
   "name": "python3"
  },
  "language_info": {
   "codemirror_mode": {
    "name": "ipython",
    "version": 3
   },
   "file_extension": ".py",
   "mimetype": "text/x-python",
   "name": "python",
   "nbconvert_exporter": "python",
   "pygments_lexer": "ipython3",
   "version": "3.9.7"
  }
 },
 "nbformat": 4,
 "nbformat_minor": 5
}
